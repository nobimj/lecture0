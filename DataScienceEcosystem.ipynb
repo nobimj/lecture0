{
  "nbformat": 4,
  "nbformat_minor": 0,
  "metadata": {
    "colab": {
      "provenance": [],
      "authorship_tag": "ABX9TyMIQvUc+FEwspn7YgWOrwz9",
      "include_colab_link": true
    },
    "kernelspec": {
      "name": "python3",
      "display_name": "Python 3"
    },
    "language_info": {
      "name": "python"
    }
  },
  "cells": [
    {
      "cell_type": "markdown",
      "metadata": {
        "id": "view-in-github",
        "colab_type": "text"
      },
      "source": [
        "<a href=\"https://colab.research.google.com/github/nobimj/lecture0/blob/master/DataScienceEcosystem.ipynb\" target=\"_parent\"><img src=\"https://colab.research.google.com/assets/colab-badge.svg\" alt=\"Open In Colab\"/></a>"
      ]
    },
    {
      "cell_type": "markdown",
      "source": [
        "# Data Science Tools and Ecosystem"
      ],
      "metadata": {
        "id": "wZwJzhSEobx_"
      }
    },
    {
      "cell_type": "markdown",
      "source": [
        "In this notebook, Data Science Tools and Ecosystem are summarized.\n",
        "\n",
        "\n",
        "\n",
        "\n"
      ],
      "metadata": {
        "id": "QDNJ24L5o2vA"
      }
    },
    {
      "cell_type": "markdown",
      "source": [
        "\n",
        "**Objectives:**\n",
        "\n",
        "\n",
        "*   Languages and tools for data science\n",
        "*   Formatting markdown cells in Jupyter Notebook\n",
        "*   Basic calculation in code cells\n",
        "\n",
        "\n"
      ],
      "metadata": {
        "id": "DwVXmTJzKRBL"
      }
    },
    {
      "cell_type": "markdown",
      "source": [
        "\n",
        "\n",
        "Some of the popular languages that Data Scientists use are:\n",
        "\n",
        "\n",
        "1. Python\n",
        "2. R\n",
        "3. Julia\n",
        "\n"
      ],
      "metadata": {
        "id": "QN9uQp5WtLLY"
      }
    },
    {
      "cell_type": "markdown",
      "source": [
        "\n",
        "Some of the commonly used libraries used by Data Scientists include:\n",
        "1. Matplotlib\n",
        "2. Pandas\n",
        "3. Scikit-learn\n"
      ],
      "metadata": {
        "id": "ZQeQfFGWF_so"
      }
    },
    {
      "cell_type": "markdown",
      "source": [
        "|Data Science Tools|\n",
        "--------------------\n",
        "|MySQL|\n",
        "|Apache airflow|\n",
        "|PixieDust|\n",
        "\n"
      ],
      "metadata": {
        "id": "oyRW9hAZqSmm"
      }
    },
    {
      "cell_type": "markdown",
      "source": [
        "### Below are a few examples of evaluating arithmetic expressions in Python"
      ],
      "metadata": {
        "id": "VsUanDwwrN-4"
      }
    },
    {
      "cell_type": "code",
      "source": [
        "#his a simple arithmetic expression to mutiply then add integers\n",
        "(3*4)+5"
      ],
      "metadata": {
        "colab": {
          "base_uri": "https://localhost:8080/"
        },
        "id": "bTO1JDswrjPS",
        "outputId": "8403799a-a7fe-4ae9-c577-93a45f2c7940"
      },
      "execution_count": null,
      "outputs": [
        {
          "output_type": "execute_result",
          "data": {
            "text/plain": [
              "17"
            ]
          },
          "metadata": {},
          "execution_count": 1
        }
      ]
    },
    {
      "cell_type": "code",
      "source": [
        "#This will convert 200 minutes to hours by diving by 60\n",
        "#and give the results in decimals\n",
        "200/60"
      ],
      "metadata": {
        "colab": {
          "base_uri": "https://localhost:8080/"
        },
        "id": "a-IKuu5xGoEU",
        "outputId": "48751d69-432e-4d73-a14e-f65d9c79ad03"
      },
      "execution_count": 1,
      "outputs": [
        {
          "output_type": "execute_result",
          "data": {
            "text/plain": [
              "3.3333333333333335"
            ]
          },
          "metadata": {},
          "execution_count": 1
        }
      ]
    },
    {
      "cell_type": "markdown",
      "source": [
        "##Author\n",
        "\n",
        "Nobi"
      ],
      "metadata": {
        "id": "YcaGoxKCtbQn"
      }
    }
  ]
}